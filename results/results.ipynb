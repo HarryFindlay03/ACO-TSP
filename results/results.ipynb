{
 "cells": [
  {
   "cell_type": "code",
   "execution_count": null,
   "metadata": {},
   "outputs": [],
   "source": [
    "import pandas as pd\n",
    "import numpy as np\n",
    "import matplotlib.pyplot as plt\n",
    "import matplotlib.colors"
   ]
  },
  {
   "cell_type": "code",
   "execution_count": null,
   "metadata": {},
   "outputs": [],
   "source": [
    "df = pd.read_csv('results.txt')\n",
    "\n",
    "opt_distance = 3323 # change to reflect optimum distance for specific tsp instance\n",
    "df['opt'] = [1 if x == opt_distance else 0 for x in df['length'].astype(int)]\n",
    "\n",
    "cmap = matplotlib.colors.ListedColormap(['red', 'green'])\n",
    "\n",
    "x_range = np.arange(0.5, 2.6, 0.1)"
   ]
  },
  {
   "cell_type": "code",
   "execution_count": null,
   "metadata": {},
   "outputs": [],
   "source": [
    "res_df = pd.DataFrame({\n",
    "    'iteration_best' : df.groupby(['param'])['iteration'].min(),\n",
    "    'iteration_worst' : df.groupby(['param'])['iteration'].max(),\n",
    "    'iteration_mean' : df.groupby(['param'])['iteration'].mean(),\n",
    "    'param' : x_range\n",
    "})"
   ]
  },
  {
   "cell_type": "code",
   "execution_count": null,
   "metadata": {},
   "outputs": [],
   "source": [
    "param = 'alpha'\n",
    "\n",
    "plt.figure(figsize=(12, 6))\n",
    "\n",
    "plt.scatter(df['param'], df['iteration'], c=df['opt'], cmap=cmap, marker='x', alpha=0.5)\n",
    "\n",
    "plt.plot(res_df['param'], res_df['iteration_best'], 'g--', label='Min Iterations')\n",
    "plt.plot(res_df['param'], res_df['iteration_worst'], 'r--', label='Max Iterations')\n",
    "plt.plot(res_df['param'], res_df['iteration_mean'], c='grey', linestyle='dashed', label='Mean Iterations')\n",
    "\n",
    "plt.xticks(x_range)\n",
    "plt.xlabel('Parameter')\n",
    "plt.ylabel('Iterations')\n",
    "\n",
    "plt.title(f'Varying {param} on burma14.xml')\n",
    "plt.legend()\n",
    "plt.grid(True)\n",
    "\n",
    "plt.show()"
   ]
  }
 ],
 "metadata": {
  "kernelspec": {
   "display_name": "env",
   "language": "python",
   "name": "python3"
  },
  "language_info": {
   "codemirror_mode": {
    "name": "ipython",
    "version": 3
   },
   "file_extension": ".py",
   "mimetype": "text/x-python",
   "name": "python",
   "nbconvert_exporter": "python",
   "pygments_lexer": "ipython3",
   "version": "3.11.6"
  }
 },
 "nbformat": 4,
 "nbformat_minor": 2
}
