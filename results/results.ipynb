{
 "cells": [
  {
   "cell_type": "code",
   "execution_count": null,
   "metadata": {},
   "outputs": [],
   "source": [
    "import pandas as pd\n",
    "import numpy as np\n",
    "import matplotlib.pyplot as plt\n",
    "import matplotlib.colors\n",
    "import seaborn as sns"
   ]
  },
  {
   "cell_type": "code",
   "execution_count": null,
   "metadata": {},
   "outputs": [],
   "source": [
    "opt_distance = 3323 # change to reflect optimum distance for specific tsp instance\n",
    "\n",
    "cmap = matplotlib.colors.ListedColormap(['red', 'green'])"
   ]
  },
  {
   "cell_type": "code",
   "execution_count": null,
   "metadata": {},
   "outputs": [],
   "source": [
    "params = ['alpha', 'beta', 'evap', 'Q']\n",
    "\n",
    "plt.figure(figsize=(20, 15))\n",
    "\n",
    "pos = 1\n",
    "for param in params:\n",
    "    temp_df = pd.read_csv(f'results_{param}.txt')\n",
    "    temp_df['opt'] = [1 if x == opt_distance else 0 for x in temp_df['length']]\n",
    "\n",
    "    groups = temp_df.groupby(['param'])['iteration']\n",
    "\n",
    "    plot_df = pd.DataFrame({\n",
    "        'param' : temp_df['param'].unique(),\n",
    "        'iteration_mean' : groups.mean()\n",
    "    })\n",
    "\n",
    "    plt.subplot(2, 2, pos)    \n",
    "    plt.scatter(temp_df['param'], temp_df['iteration'], c=temp_df['opt'], cmap=cmap, marker='o', alpha=0.5)\n",
    "\n",
    "    plt.plot(plot_df['param'], plot_df['iteration_mean'], c='k', linestyle='dashed', label='Mean Iterations to find an Optima')\n",
    "\n",
    "    plt.xticks(temp_df['param'].unique())\n",
    "    plt.xlabel('Parameter')\n",
    "    plt.ylabel('Iterations')\n",
    "\n",
    "    if param == \"evap\":\n",
    "        param = \"evaporation rate\"\n",
    "    plt.title(f'Varying {param} on burma14.xml')\n",
    "    plt.legend()\n",
    "    plt.grid(True)\n",
    "\n",
    "    pos += 1\n",
    "\n",
    "plt.show()\n"
   ]
  },
  {
   "cell_type": "code",
   "execution_count": null,
   "metadata": {},
   "outputs": [],
   "source": [
    "ants_burma_df = pd.read_csv('results_numants_burma.txt')\n",
    "ants_brazil_df = pd.read_csv('results_numants_brazil.txt')\n",
    "\n",
    "opt_distance = 3323\n",
    "\n",
    "plot_df = pd.DataFrame({\n",
    "    'NumAntsBurma' : ants_burma_df['param'].unique(),\n",
    "    'AvgIterationsBurma' : ants_burma_df.groupby(['param'])['iteration'].mean(),\n",
    "    'OptBurma' : [1 if (x == 3323) else 0 for x in ants_burma_df.groupby(['param'])['length'].mean()],\n",
    "    'NumAntsBrazil' : ants_brazil_df['param'].unique(),\n",
    "    'AvgIterationsBrazil' : ants_brazil_df.groupby(['param'])['iteration'].mean(),\n",
    "    'OptBrazil' : [1 if (x == 25395) else 0 for x in ants_brazil_df.groupby(['param'])['length'].mean()]\n",
    "})\n",
    "\n",
    "plt.figure(figsize=(20, 6))\n",
    "\n",
    "plt.subplot(1, 2, 1)\n",
    "plt.scatter(plot_df['NumAntsBurma'], plot_df['AvgIterationsBurma'], marker='x', c=plot_df['OptBurma'], cmap=cmap)\n",
    "plt.plot(plot_df['NumAntsBurma'], plot_df['AvgIterationsBurma'], color='grey', linestyle='dashed', label='Average Number of Iterations to find an Optima')\n",
    "\n",
    "plt.xlabel('Colony Size (Number of Ants)')\n",
    "plt.ylabel('Iterations')\n",
    "\n",
    "plt.title('Varying Colony Size on Burma14 TSP Instance')\n",
    "plt.legend()\n",
    "\n",
    "plt.subplot(1, 2, 2)\n",
    "plt.scatter(plot_df['NumAntsBrazil'], plot_df['AvgIterationsBrazil'], marker='x', c=plot_df['OptBrazil'], cmap=cmap)\n",
    "plt.plot(plot_df['NumAntsBrazil'], plot_df['AvgIterationsBrazil'], color='grey', linestyle='dashed', label='Average Number of Iterations to find an Optima')\n",
    "\n",
    "plt.xlabel('Colony Size (Number of Ants)')\n",
    "plt.ylabel('Iterations')\n",
    "\n",
    "plt.title('Varying Colony Size on Brazil58 TSP Instance')\n",
    "plt.legend()\n",
    "\n",
    "plt.show()"
   ]
  },
  {
   "cell_type": "code",
   "execution_count": null,
   "metadata": {},
   "outputs": [],
   "source": [
    "opt_distance_bz = 25395\n",
    "\n",
    "plot_df = pd.DataFrame({\n",
    "    'PercentToOptima' : [\n",
    "        pd.read_csv('results_classicAS.txt')['length'].median() / opt_distance_bz * 100 - 100,\n",
    "        pd.read_csv('results_classicAS_T0.txt')['length'].median() / opt_distance_bz * 100 - 100,\n",
    "        pd.read_csv('results_elitistAS.txt')['length'].median() / opt_distance_bz * 100 - 100\n",
    "        ],\n",
    "    'Approach' : [\n",
    "        'Classic AS',\n",
    "        'Classic AS + T0 Heuristic',\n",
    "        'Elitist AS + T0 Heuristic',\n",
    "        ]\n",
    "})\n",
    "\n",
    "plt.figure(figsize=(8, 3))\n",
    "sns.barplot(y=plot_df['PercentToOptima'], x=plot_df['Approach'], width=0.3)\n",
    "\n",
    "plt.xlabel(None)\n",
    "plt.ylabel('Percent Above Global Optimum / %')\n",
    "plt.title('Performance of Different ACO Approaches on Brazil58 TSP Instance')\n",
    "plt.show()"
   ]
  }
 ],
 "metadata": {
  "kernelspec": {
   "display_name": "env",
   "language": "python",
   "name": "python3"
  },
  "language_info": {
   "codemirror_mode": {
    "name": "ipython",
    "version": 3
   },
   "file_extension": ".py",
   "mimetype": "text/x-python",
   "name": "python",
   "nbconvert_exporter": "python",
   "pygments_lexer": "ipython3",
   "version": "3.11.6"
  }
 },
 "nbformat": 4,
 "nbformat_minor": 2
}
