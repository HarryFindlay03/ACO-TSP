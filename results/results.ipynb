{
 "cells": [
  {
   "cell_type": "code",
   "execution_count": null,
   "metadata": {},
   "outputs": [],
   "source": [
    "import pandas as pd\n",
    "import numpy as np\n",
    "import matplotlib.pyplot as plt\n",
    "import matplotlib.colors"
   ]
  },
  {
   "cell_type": "code",
   "execution_count": null,
   "metadata": {},
   "outputs": [],
   "source": [
    "opt_distance = 3323 # change to reflect optimum distance for specific tsp instance\n",
    "\n",
    "cmap = matplotlib.colors.ListedColormap(['red', 'green'])"
   ]
  },
  {
   "cell_type": "code",
   "execution_count": null,
   "metadata": {},
   "outputs": [],
   "source": [
    "params = ['alpha', 'beta', 'evap', 'Q']\n",
    "\n",
    "plt.figure(figsize=(20, 15))\n",
    "\n",
    "pos = 1\n",
    "for param in params:\n",
    "    temp_df = pd.read_csv(f'results_{param}.txt')\n",
    "    temp_df['opt'] = [1 if x == opt_distance else 0 for x in temp_df['length']]\n",
    "\n",
    "    groups = temp_df.groupby(['param'])['iteration']\n",
    "    plot_df = pd.DataFrame({\n",
    "        'param' : temp_df['param'].unique(),\n",
    "        'iteration_best' : groups.min(),\n",
    "        'iteration_worst' : groups.max(),\n",
    "        'iteration_mean' : groups.mean()\n",
    "    })\n",
    "\n",
    "    plt.subplot(2, 2, pos)    \n",
    "    plt.scatter(temp_df['param'], temp_df['iteration'], c=temp_df['opt'], cmap=cmap, marker='x', alpha=0.5)\n",
    "\n",
    "    plt.plot(plot_df['param'], plot_df['iteration_best'], 'g--', label='Min Iterations')\n",
    "    plt.plot(plot_df['param'], plot_df['iteration_worst'], 'r--', label='Max Iterations')\n",
    "    plt.plot(plot_df['param'], plot_df['iteration_mean'], c='grey', linestyle='dashed', label='Mean Iterations')\n",
    "\n",
    "    plt.xticks(plot_df['param'])\n",
    "    plt.xlabel('Parameter')\n",
    "    plt.ylabel('Iterations')\n",
    "\n",
    "    plt.title(f'Varying {param} on burma14.xml')\n",
    "    plt.legend()\n",
    "    plt.grid(True)\n",
    "\n",
    "    pos += 1\n",
    "\n",
    "plt.show()\n"
   ]
  }
 ],
 "metadata": {
  "kernelspec": {
   "display_name": "env",
   "language": "python",
   "name": "python3"
  },
  "language_info": {
   "codemirror_mode": {
    "name": "ipython",
    "version": 3
   },
   "file_extension": ".py",
   "mimetype": "text/x-python",
   "name": "python",
   "nbconvert_exporter": "python",
   "pygments_lexer": "ipython3",
   "version": "3.11.6"
  }
 },
 "nbformat": 4,
 "nbformat_minor": 2
}
